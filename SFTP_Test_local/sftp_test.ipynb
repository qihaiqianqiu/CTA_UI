{
 "cells": [
  {
   "cell_type": "code",
   "execution_count": 10,
   "id": "48b28769",
   "metadata": {},
   "outputs": [],
   "source": [
    "from utils import sftp\n",
    "import json"
   ]
  },
  {
   "cell_type": "code",
   "execution_count": 13,
   "id": "1d76a327",
   "metadata": {},
   "outputs": [],
   "source": [
    "ftp_config = json.load(open(r'.\\FTP_config.json'))"
   ]
  },
  {
   "cell_type": "code",
   "execution_count": 14,
   "id": "22673bd2",
   "metadata": {},
   "outputs": [],
   "source": [
    "sftp_para = ftp_config['BRIDGE_SERVER_ADDR']\n",
    "\n",
    "ssh = sftp.SSHConnection(host=sftp_para['host'], port=sftp_para['port'],\n",
    "                        username=sftp_para['username'], pwd=sftp_para['pwd'])"
   ]
  },
  {
   "cell_type": "code",
   "execution_count": 5,
   "id": "d6eae55b",
   "metadata": {},
   "outputs": [],
   "source": [
    "ssh.connect()"
   ]
  },
  {
   "cell_type": "code",
   "execution_count": 6,
   "id": "038c8e74",
   "metadata": {},
   "outputs": [
    {
     "name": "stdout",
     "output_type": "stream",
     "text": [
      "anaconda-ks.cfg\n",
      "Desktop\n",
      "~\\Desktop\\params.xlsx\n",
      "Documents\n",
      "Downloads\n",
      "initial-setup-ks.cfg\n",
      "Music\n",
      "Pictures\n",
      "Public\n",
      "SFTP_Test\n",
      "Templates\n",
      "Videos\n",
      "\n"
     ]
    },
    {
     "data": {
      "text/plain": [
       "b'anaconda-ks.cfg\\nDesktop\\n~\\\\Desktop\\\\params.xlsx\\nDocuments\\nDownloads\\ninitial-setup-ks.cfg\\nMusic\\nPictures\\nPublic\\nSFTP_Test\\nTemplates\\nVideos\\n'"
      ]
     },
     "execution_count": 6,
     "metadata": {},
     "output_type": "execute_result"
    }
   ],
   "source": [
    "ssh.cmd(\"ls\")"
   ]
  },
  {
   "cell_type": "code",
   "execution_count": 9,
   "id": "ac459422",
   "metadata": {},
   "outputs": [
    {
     "name": "stdout",
     "output_type": "stream",
     "text": [
      "anaconda-ks.cfg\n",
      "Desktop\n",
      "~\\Desktop\\params.xlsx\n",
      "Documents\n",
      "Downloads\n",
      "initial-setup-ks.cfg\n",
      "Music\n",
      "Pictures\n",
      "Public\n",
      "SFTP_Test\n",
      "Templates\n",
      "Videos\n",
      "\n"
     ]
    },
    {
     "data": {
      "text/plain": [
       "b'anaconda-ks.cfg\\nDesktop\\n~\\\\Desktop\\\\params.xlsx\\nDocuments\\nDownloads\\ninitial-setup-ks.cfg\\nMusic\\nPictures\\nPublic\\nSFTP_Test\\nTemplates\\nVideos\\n'"
      ]
     },
     "execution_count": 9,
     "metadata": {},
     "output_type": "execute_result"
    }
   ],
   "source": [
    "ssh.cmd(\"cd SFTP_Test\")"
   ]
  },
  {
   "cell_type": "code",
   "execution_count": 8,
   "id": "7898b8b8",
   "metadata": {},
   "outputs": [
    {
     "name": "stdout",
     "output_type": "stream",
     "text": [
      "anaconda-ks.cfg\n",
      "Desktop\n",
      "~\\Desktop\\params.xlsx\n",
      "Documents\n",
      "Downloads\n",
      "initial-setup-ks.cfg\n",
      "Music\n",
      "Pictures\n",
      "Public\n",
      "SFTP_Test\n",
      "Templates\n",
      "Videos\n",
      "\n"
     ]
    },
    {
     "data": {
      "text/plain": [
       "b'anaconda-ks.cfg\\nDesktop\\n~\\\\Desktop\\\\params.xlsx\\nDocuments\\nDownloads\\ninitial-setup-ks.cfg\\nMusic\\nPictures\\nPublic\\nSFTP_Test\\nTemplates\\nVideos\\n'"
      ]
     },
     "execution_count": 8,
     "metadata": {},
     "output_type": "execute_result"
    }
   ],
   "source": [
    "ssh.cmd(\"ls\")"
   ]
  },
  {
   "cell_type": "code",
   "execution_count": 15,
   "id": "eefdfc89",
   "metadata": {},
   "outputs": [],
   "source": [
    "ssh.connect()"
   ]
  },
  {
   "cell_type": "code",
   "execution_count": 19,
   "id": "7b623f38",
   "metadata": {},
   "outputs": [
    {
     "name": "stdout",
     "output_type": "stream",
     "text": [
      "\n"
     ]
    },
    {
     "data": {
      "text/plain": [
       "b''"
      ]
     },
     "execution_count": 19,
     "metadata": {},
     "output_type": "execute_result"
    }
   ],
   "source": [
    "ssh.cmd(\"mkdir -p SFTP_Test\\test\")"
   ]
  },
  {
   "cell_type": "code",
   "execution_count": 21,
   "id": "2a62b637",
   "metadata": {},
   "outputs": [
    {
     "name": "stdout",
     "output_type": "stream",
     "text": [
      "\n"
     ]
    },
    {
     "data": {
      "text/plain": [
       "b''"
      ]
     },
     "execution_count": 21,
     "metadata": {},
     "output_type": "execute_result"
    }
   ],
   "source": [
    "ssh.cmd(\"mkdir -p SFTP_Test/test\")"
   ]
  },
  {
   "cell_type": "code",
   "execution_count": null,
   "id": "38dd74ed",
   "metadata": {},
   "outputs": [],
   "source": []
  }
 ],
 "metadata": {
  "kernelspec": {
   "display_name": "Python 3 (ipykernel)",
   "language": "python",
   "name": "python3"
  },
  "language_info": {
   "codemirror_mode": {
    "name": "ipython",
    "version": 3
   },
   "file_extension": ".py",
   "mimetype": "text/x-python",
   "name": "python",
   "nbconvert_exporter": "python",
   "pygments_lexer": "ipython3",
   "version": "3.9.7"
  }
 },
 "nbformat": 4,
 "nbformat_minor": 5
}
