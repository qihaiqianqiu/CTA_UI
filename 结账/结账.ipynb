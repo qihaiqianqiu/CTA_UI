{
 "cells": [
  {
   "cell_type": "code",
   "execution_count": 1,
   "id": "93d08a77",
   "metadata": {},
   "outputs": [],
   "source": [
    "import pandas as pd\n",
    "import sys\n",
    "import re"
   ]
  },
  {
   "cell_type": "code",
   "execution_count": 2,
   "id": "d9f35f92",
   "metadata": {},
   "outputs": [],
   "source": [
    "sys.path.append(r'D:\\local_repo\\CTA_UI')"
   ]
  },
  {
   "cell_type": "code",
   "execution_count": 3,
   "id": "8f1e08bf",
   "metadata": {},
   "outputs": [
    {
     "name": "stderr",
     "output_type": "stream",
     "text": [
      "C:\\Users\\Han.Hao\\AppData\\Local\\anaconda3\\lib\\site-packages\\paramiko\\transport.py:219: CryptographyDeprecationWarning: Blowfish has been deprecated\n",
      "  \"class\": algorithms.Blowfish,\n"
     ]
    }
   ],
   "source": [
    "from utils import const"
   ]
  },
  {
   "cell_type": "code",
   "execution_count": 4,
   "id": "071c8caf",
   "metadata": {},
   "outputs": [],
   "source": [
    "df = pd.read_excel(\"audit.xlsx\", names=[\"contract\", \"volume\", \"ticknum\"])"
   ]
  },
  {
   "cell_type": "code",
   "execution_count": 5,
   "id": "c93dde23",
   "metadata": {},
   "outputs": [],
   "source": [
    "df['breed'] = df.apply(lambda x: re.findall(r'[a-zA-Z]+', x['contract'])[0], axis=1)"
   ]
  },
  {
   "cell_type": "code",
   "execution_count": 6,
   "id": "cc1c81ad",
   "metadata": {},
   "outputs": [],
   "source": [
    "df['total_volume'] = df['volume'] * df['ticknum']\n",
    "df['money'] = df.apply(lambda x: x['total_volume'] * const.multiple_dict[x['breed']] * const.boundary_dict[x['breed']], axis=1)"
   ]
  },
  {
   "cell_type": "code",
   "execution_count": 7,
   "id": "4844a887",
   "metadata": {},
   "outputs": [],
   "source": [
    "audit_dict = {}\n",
    "for temp in df.groupby('breed'):\n",
    "    audit_dict[temp[0]] = temp[1]['money'].sum()"
   ]
  },
  {
   "cell_type": "code",
   "execution_count": 8,
   "id": "2136c322",
   "metadata": {},
   "outputs": [
    {
     "data": {
      "text/plain": [
       "{'A': -720.0,\n",
       " 'AG': 360.0,\n",
       " 'AU': 3330.0,\n",
       " 'B': -5592.0,\n",
       " 'C': 380.0,\n",
       " 'CF': 975.0,\n",
       " 'CS': -100.0,\n",
       " 'EG': -5540.0,\n",
       " 'FU': 4565.0,\n",
       " 'HC': -160.0,\n",
       " 'IF': 210.0,\n",
       " 'IH': 8100.0,\n",
       " 'LU': -320.0,\n",
       " 'MA': 190.0,\n",
       " 'OI': 40.09999999999991,\n",
       " 'PF': 90.0,\n",
       " 'PP': -35.0,\n",
       " 'RB': -5520.0,\n",
       " 'RR': 520.0,\n",
       " 'RU': 0.0,\n",
       " 'SA': 3980.0,\n",
       " 'SC': 20300.0,\n",
       " 'SN': 1080.0,\n",
       " 'SP': 1610.0,\n",
       " 'UR': 3960.0,\n",
       " 'V': -3785.0,\n",
       " 'Y': 4210.0}"
      ]
     },
     "execution_count": 8,
     "metadata": {},
     "output_type": "execute_result"
    }
   ],
   "source": [
    "audit_dict"
   ]
  },
  {
   "cell_type": "code",
   "execution_count": 9,
   "id": "89761d75",
   "metadata": {},
   "outputs": [
    {
     "name": "stdout",
     "output_type": "stream",
     "text": [
      "{'B': -5592.0, 'EG': -5540.0, 'RB': -5520.0, 'V': -3785.0, 'A': -720.0, 'LU': -320.0, 'HC': -160.0, 'CS': -100.0, 'PP': -35.0, 'RU': 0.0, 'OI': 40.09999999999991, 'PF': 90.0, 'MA': 190.0, 'IF': 210.0, 'AG': 360.0, 'C': 380.0, 'RR': 520.0, 'CF': 975.0, 'SN': 1080.0, 'SP': 1610.0, 'AU': 3330.0, 'UR': 3960.0, 'SA': 3980.0, 'Y': 4210.0, 'FU': 4565.0, 'IH': 8100.0, 'SC': 20300.0}\n"
     ]
    }
   ],
   "source": [
    "audit_dict = dict(sorted(audit_dict.items(), key=lambda x: x[1]))\n",
    "print(audit_dict)"
   ]
  },
  {
   "cell_type": "code",
   "execution_count": 17,
   "id": "de447db0",
   "metadata": {},
   "outputs": [],
   "source": [
    "# 将字典的键和值分别转换为列表\n",
    "breeds = list(audit_dict.keys())\n",
    "money = list(audit_dict.values())\n",
    "\n",
    "# 创建DataFrame\n",
    "df = pd.DataFrame({'breed': breeds, 'money': money})"
   ]
  },
  {
   "cell_type": "code",
   "execution_count": 18,
   "id": "e707f80d",
   "metadata": {},
   "outputs": [
    {
     "data": {
      "text/html": [
       "<div>\n",
       "<style scoped>\n",
       "    .dataframe tbody tr th:only-of-type {\n",
       "        vertical-align: middle;\n",
       "    }\n",
       "\n",
       "    .dataframe tbody tr th {\n",
       "        vertical-align: top;\n",
       "    }\n",
       "\n",
       "    .dataframe thead th {\n",
       "        text-align: right;\n",
       "    }\n",
       "</style>\n",
       "<table border=\"1\" class=\"dataframe\">\n",
       "  <thead>\n",
       "    <tr style=\"text-align: right;\">\n",
       "      <th></th>\n",
       "      <th>breed</th>\n",
       "      <th>money</th>\n",
       "    </tr>\n",
       "  </thead>\n",
       "  <tbody>\n",
       "    <tr>\n",
       "      <th>0</th>\n",
       "      <td>B</td>\n",
       "      <td>-5592.0</td>\n",
       "    </tr>\n",
       "    <tr>\n",
       "      <th>1</th>\n",
       "      <td>EG</td>\n",
       "      <td>-5540.0</td>\n",
       "    </tr>\n",
       "    <tr>\n",
       "      <th>2</th>\n",
       "      <td>RB</td>\n",
       "      <td>-5520.0</td>\n",
       "    </tr>\n",
       "    <tr>\n",
       "      <th>3</th>\n",
       "      <td>V</td>\n",
       "      <td>-3785.0</td>\n",
       "    </tr>\n",
       "    <tr>\n",
       "      <th>4</th>\n",
       "      <td>A</td>\n",
       "      <td>-720.0</td>\n",
       "    </tr>\n",
       "    <tr>\n",
       "      <th>5</th>\n",
       "      <td>LU</td>\n",
       "      <td>-320.0</td>\n",
       "    </tr>\n",
       "    <tr>\n",
       "      <th>6</th>\n",
       "      <td>HC</td>\n",
       "      <td>-160.0</td>\n",
       "    </tr>\n",
       "    <tr>\n",
       "      <th>7</th>\n",
       "      <td>CS</td>\n",
       "      <td>-100.0</td>\n",
       "    </tr>\n",
       "    <tr>\n",
       "      <th>8</th>\n",
       "      <td>PP</td>\n",
       "      <td>-35.0</td>\n",
       "    </tr>\n",
       "    <tr>\n",
       "      <th>9</th>\n",
       "      <td>RU</td>\n",
       "      <td>0.0</td>\n",
       "    </tr>\n",
       "    <tr>\n",
       "      <th>10</th>\n",
       "      <td>OI</td>\n",
       "      <td>40.1</td>\n",
       "    </tr>\n",
       "    <tr>\n",
       "      <th>11</th>\n",
       "      <td>PF</td>\n",
       "      <td>90.0</td>\n",
       "    </tr>\n",
       "    <tr>\n",
       "      <th>12</th>\n",
       "      <td>MA</td>\n",
       "      <td>190.0</td>\n",
       "    </tr>\n",
       "    <tr>\n",
       "      <th>13</th>\n",
       "      <td>IF</td>\n",
       "      <td>210.0</td>\n",
       "    </tr>\n",
       "    <tr>\n",
       "      <th>14</th>\n",
       "      <td>AG</td>\n",
       "      <td>360.0</td>\n",
       "    </tr>\n",
       "    <tr>\n",
       "      <th>15</th>\n",
       "      <td>C</td>\n",
       "      <td>380.0</td>\n",
       "    </tr>\n",
       "    <tr>\n",
       "      <th>16</th>\n",
       "      <td>RR</td>\n",
       "      <td>520.0</td>\n",
       "    </tr>\n",
       "    <tr>\n",
       "      <th>17</th>\n",
       "      <td>CF</td>\n",
       "      <td>975.0</td>\n",
       "    </tr>\n",
       "    <tr>\n",
       "      <th>18</th>\n",
       "      <td>SN</td>\n",
       "      <td>1080.0</td>\n",
       "    </tr>\n",
       "    <tr>\n",
       "      <th>19</th>\n",
       "      <td>SP</td>\n",
       "      <td>1610.0</td>\n",
       "    </tr>\n",
       "    <tr>\n",
       "      <th>20</th>\n",
       "      <td>AU</td>\n",
       "      <td>3330.0</td>\n",
       "    </tr>\n",
       "    <tr>\n",
       "      <th>21</th>\n",
       "      <td>UR</td>\n",
       "      <td>3960.0</td>\n",
       "    </tr>\n",
       "    <tr>\n",
       "      <th>22</th>\n",
       "      <td>SA</td>\n",
       "      <td>3980.0</td>\n",
       "    </tr>\n",
       "    <tr>\n",
       "      <th>23</th>\n",
       "      <td>Y</td>\n",
       "      <td>4210.0</td>\n",
       "    </tr>\n",
       "    <tr>\n",
       "      <th>24</th>\n",
       "      <td>FU</td>\n",
       "      <td>4565.0</td>\n",
       "    </tr>\n",
       "    <tr>\n",
       "      <th>25</th>\n",
       "      <td>IH</td>\n",
       "      <td>8100.0</td>\n",
       "    </tr>\n",
       "    <tr>\n",
       "      <th>26</th>\n",
       "      <td>SC</td>\n",
       "      <td>20300.0</td>\n",
       "    </tr>\n",
       "  </tbody>\n",
       "</table>\n",
       "</div>"
      ],
      "text/plain": [
       "   breed    money\n",
       "0      B  -5592.0\n",
       "1     EG  -5540.0\n",
       "2     RB  -5520.0\n",
       "3      V  -3785.0\n",
       "4      A   -720.0\n",
       "5     LU   -320.0\n",
       "6     HC   -160.0\n",
       "7     CS   -100.0\n",
       "8     PP    -35.0\n",
       "9     RU      0.0\n",
       "10    OI     40.1\n",
       "11    PF     90.0\n",
       "12    MA    190.0\n",
       "13    IF    210.0\n",
       "14    AG    360.0\n",
       "15     C    380.0\n",
       "16    RR    520.0\n",
       "17    CF    975.0\n",
       "18    SN   1080.0\n",
       "19    SP   1610.0\n",
       "20    AU   3330.0\n",
       "21    UR   3960.0\n",
       "22    SA   3980.0\n",
       "23     Y   4210.0\n",
       "24    FU   4565.0\n",
       "25    IH   8100.0\n",
       "26    SC  20300.0"
      ]
     },
     "execution_count": 18,
     "metadata": {},
     "output_type": "execute_result"
    }
   ],
   "source": [
    "df"
   ]
  },
  {
   "cell_type": "code",
   "execution_count": 19,
   "id": "2b8eae75",
   "metadata": {},
   "outputs": [
    {
     "data": {
      "text/plain": [
       "32128.1"
      ]
     },
     "execution_count": 19,
     "metadata": {},
     "output_type": "execute_result"
    }
   ],
   "source": [
    "df['money'].sum()"
   ]
  },
  {
   "cell_type": "code",
   "execution_count": null,
   "id": "8b726d48",
   "metadata": {},
   "outputs": [],
   "source": []
  }
 ],
 "metadata": {
  "kernelspec": {
   "display_name": "Python 3 (ipykernel)",
   "language": "python",
   "name": "python3"
  },
  "language_info": {
   "codemirror_mode": {
    "name": "ipython",
    "version": 3
   },
   "file_extension": ".py",
   "mimetype": "text/x-python",
   "name": "python",
   "nbconvert_exporter": "python",
   "pygments_lexer": "ipython3",
   "version": "3.10.9"
  }
 },
 "nbformat": 4,
 "nbformat_minor": 5
}
